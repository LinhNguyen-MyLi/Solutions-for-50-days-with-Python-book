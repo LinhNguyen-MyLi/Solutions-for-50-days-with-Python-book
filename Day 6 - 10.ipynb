{
 "cells": [
  {
   "cell_type": "code",
   "execution_count": 5,
   "id": "ec531968",
   "metadata": {},
   "outputs": [
    {
     "name": "stdout",
     "output_type": "stream",
     "text": [
      "ben\n"
     ]
    }
   ],
   "source": [
    "# Day 6 user name generator\n",
    "def user_name (email_input):\n",
    "    list_parts = email_input.split('@')\n",
    "    result = list_parts[0]\n",
    "    return result\n",
    "\n",
    "email_input = 'ben@gamail.com'\n",
    "test = user_name(email_input)\n",
    "print(test)\n",
    "\n",
    "# Note: my mistakes: we don't need to predefine email_input first since the email is passed as an argument\n"
   ]
  },
  {
   "cell_type": "code",
   "execution_count": 16,
   "id": "1a172c8b",
   "metadata": {},
   "outputs": [
    {
     "name": "stdout",
     "output_type": "stream",
     "text": [
      "0.1.2.3.4.5\n",
      "None\n"
     ]
    }
   ],
   "source": [
    "# Day 7 a string range\n",
    "def string_range (x):\n",
    "    range_number = []\n",
    "    for n in range(int(x)):\n",
    "        range_number.append(str(n))\n",
    "        dotted_number = \".\".join(range_number)\n",
    "    return print (dotted_number)\n",
    "\n",
    "test = string_range(6)\n",
    "print(test)\n",
    "    \n",
    "# Python range() function generates the immutable sequence of numbers starting from the given start integer to the stop integer\n",
    "# My mistake: at first I used split(\".\") function but the result is not matched with the question -> should use joint() function"
   ]
  },
  {
   "cell_type": "code",
   "execution_count": 24,
   "id": "ff4dd194",
   "metadata": {},
   "outputs": [
    {
     "name": "stdout",
     "output_type": "stream",
     "text": [
      "5\n"
     ]
    }
   ],
   "source": [
    "# Day 8 odd_even\n",
    "def odd_even (list_number):\n",
    "    max_even = None\n",
    "    min_odd = None\n",
    "    for n in list_number:\n",
    "        if n%2 == 0 and (max_even is None or n > max_even):\n",
    "            max_even = n\n",
    "        elif n%2 != 0 and (min_odd is None or n < min_odd):\n",
    "            min_odd = n\n",
    "    return max_even - min_odd\n",
    "\n",
    "test = odd_even([1,2,4,6])\n",
    "print(test)\n",
    "\n",
    "# My mistakes: \n",
    "# Assigned list_number as an empty list [] at the beginning of the function. This will overwrite any input that is passed to the function, and the function will always operate on an empty list.\n",
    "# Don't define max_even and min odd before for-in\n",
    "# Don't type (max_even is None or n > max_even) and the same for min_odd -> those variables won't be updated when the list changed"
   ]
  },
  {
   "cell_type": "code",
   "execution_count": 30,
   "id": "44254982",
   "metadata": {},
   "outputs": [
    {
     "name": "stdout",
     "output_type": "stream",
     "text": [
      "9\n",
      "None\n"
     ]
    }
   ],
   "source": [
    "# Day 9 Biggest odd number (Hint from the book using List Comprehension)\n",
    "def biggest_odd (string_number):\n",
    "    converted = [int(n) for n in string_number]\n",
    "    even_numbers = [n for n in converted if n%2 != 0]\n",
    "    print(max(even_numbers))\n",
    "\n",
    "test = biggest_odd('23569')\n",
    "print(test)\n",
    "\n",
    "# My mistake: I should have converted string input into number first to find max value"
   ]
  },
  {
   "cell_type": "code",
   "execution_count": 36,
   "id": "5d3ae61e",
   "metadata": {},
   "outputs": [
    {
     "name": "stdout",
     "output_type": "stream",
     "text": [
      "False\n"
     ]
    }
   ],
   "source": [
    "# Day 10 Are they equal?\n",
    "def equal_strings(string1, string2):\n",
    "    for i in range(len(string1)):\n",
    "        if len(string1) == len(string2) and string1[i] == string2[i]:\n",
    "            continue\n",
    "        else:\n",
    "            return False\n",
    "    return True\n",
    "\n",
    "test = equal_strings('love','evol')\n",
    "print(test)\n"
   ]
  }
 ],
 "metadata": {
  "kernelspec": {
   "display_name": "Python 3 (ipykernel)",
   "language": "python",
   "name": "python3"
  },
  "language_info": {
   "codemirror_mode": {
    "name": "ipython",
    "version": 3
   },
   "file_extension": ".py",
   "mimetype": "text/x-python",
   "name": "python",
   "nbconvert_exporter": "python",
   "pygments_lexer": "ipython3",
   "version": "3.9.13"
  }
 },
 "nbformat": 4,
 "nbformat_minor": 5
}
