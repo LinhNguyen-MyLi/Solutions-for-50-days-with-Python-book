{
 "cells": [
  {
   "cell_type": "code",
   "execution_count": 29,
   "id": "0239013b",
   "metadata": {},
   "outputs": [],
   "source": [
    "# Day 1"
   ]
  },
  {
   "cell_type": "code",
   "execution_count": 37,
   "id": "65cdde26",
   "metadata": {},
   "outputs": [],
   "source": [
    "import math"
   ]
  },
  {
   "cell_type": "code",
   "execution_count": 42,
   "id": "47712c1c",
   "metadata": {
    "scrolled": true
   },
   "outputs": [
    {
     "name": "stdout",
     "output_type": "stream",
     "text": [
      "8.366600265340756\n",
      "None\n"
     ]
    }
   ],
   "source": [
    "def devide_or_square(num):\n",
    "    sqrt_num = math.sqrt(num)\n",
    "    remainder = num % 5\n",
    "    if num % 5 == 0:\n",
    "        print(sqrt_num)\n",
    "    else: \n",
    "        print(remainder)\n",
    "\n",
    "test = devide_or_square(70)\n",
    "print(test)"
   ]
  },
  {
   "cell_type": "code",
   "execution_count": 48,
   "id": "eec70075",
   "metadata": {},
   "outputs": [],
   "source": [
    "# Day 2"
   ]
  },
  {
   "cell_type": "code",
   "execution_count": 51,
   "id": "637334e4",
   "metadata": {},
   "outputs": [
    {
     "name": "stdout",
     "output_type": "stream",
     "text": [
      "10\n"
     ]
    }
   ],
   "source": [
    "def convert_add(list_of_string):\n",
    "    total = 0\n",
    "    for string in list_of_string:\n",
    "        convert = int(string)\n",
    "        total += convert\n",
    "    return total\n",
    "\n",
    "list_of_string = ['1','2','3','4']\n",
    "test = convert_add(list_of_string)\n",
    "print (test)\n",
    "\n",
    "# Note: \n",
    "##  Variable total is being redefined in each iteration of the loop, so the final value of total will only be the sum of the last element in list_of_string.\n",
    "##  x += y is equivalent to x = x + y.\n"
   ]
  },
  {
   "cell_type": "code",
   "execution_count": 54,
   "id": "5d20476b",
   "metadata": {},
   "outputs": [
    {
     "name": "stdout",
     "output_type": "stream",
     "text": [
      "6\n"
     ]
    }
   ],
   "source": [
    "def convert_add2(list_strings):\n",
    "    total = 0\n",
    "    converted_list = []\n",
    "    for string in list_strings:\n",
    "        convert = int(string)\n",
    "        converted_list.append(convert)\n",
    "        total = sum(converted_list)\n",
    "    return total\n",
    "\n",
    "list_strings = ['1','2','3']\n",
    "test = convert_add2(list_strings)\n",
    "print(test)\n",
    "\n",
    "# Note: \n",
    "# we don't need to redefine convert cause it's a temporary variable used to store the converted integer value of the current string\n",
    "# converted_list and total need to be redefined before the loop because they are used to accumulate information across multiple iterations of the loop."
   ]
  },
  {
   "cell_type": "code",
   "execution_count": null,
   "id": "2f01695b",
   "metadata": {},
   "outputs": [],
   "source": [
    "# Day 3"
   ]
  },
  {
   "cell_type": "code",
   "execution_count": 61,
   "id": "b5c5de67",
   "metadata": {},
   "outputs": [
    {
     "name": "stdout",
     "output_type": "stream",
     "text": [
      "3\n"
     ]
    }
   ],
   "source": [
    "def register_check (names):\n",
    "    store_value = []\n",
    "    for key , value in names.items():\n",
    "        if value == 'yes':\n",
    "            store_value.append(key)\n",
    "    total = len(store_value)\n",
    "    return total\n",
    "    \n",
    "names = {'Michael':'yes','John':'no','Peter':'yes','Mary':'yes'}\n",
    "test = register_check(names)\n",
    "print(test)\n",
    "\n",
    "# Note: I made 03 mistakes:\n",
    "## 1. not address both key & value (to access both key & value of dictionary) in the line of \"for....in.....\"\n",
    "\n",
    "## 2. don't use funtion items() of dicttionary to returns a view object that contains tuples of the dictionary's (key, value) in pairs\n",
    "\n",
    "## 3. Use int() to convert string(is key) to int -> generate error -> (invalid literal for int() with base 10: 'Michael'):\n",
    "    # Error meaning: trying to convert a string that cannot be interpreted as an integer to an integer.\n",
    "    # Detail: key & value in dictionary are both strings type,and then my register_check() function try to convert the keys to integers and append them to a list. But since the keys are strings representing names and not integers, I cannot convert them to integers using the int() function \n",
    "              \n",
    "## 4. I shouldn't have used 'sum' but use 'len' function instead, cause elements of store_value list are not interger\n"
   ]
  },
  {
   "cell_type": "code",
   "execution_count": 67,
   "id": "5f394a2a",
   "metadata": {},
   "outputs": [
    {
     "name": "stdout",
     "output_type": "stream",
     "text": [
      "1\n"
     ]
    }
   ],
   "source": [
    "# Day 4\n",
    "\n",
    "def only_floats (a,b):\n",
    "    if type(a) == float and type(b) == float:\n",
    "        print(2)\n",
    "    elif type(a) == float or type(b) == float:\n",
    "        print(1)\n",
    "    else:\n",
    "        print(0)\n",
    "        \n",
    "test = only_floats(12.1,23) \n",
    "print = test\n",
    "\n",
    "# Note: my mistake: I accidentally type '&' instead of 'and' -> it's wrong. & won't work with float and type."
   ]
  },
  {
   "cell_type": "code",
   "execution_count": null,
   "id": "414871b7",
   "metadata": {},
   "outputs": [],
   "source": [
    "# Day 5\n",
    "def my_discount():\n",
    "        price = int(input(\"Enter the price of the product: \"))\n",
    "        discount = int(input(\"Enter the discount percentage (0-100): \"))/100\n",
    "        price_discounted = price - (price*discount)\n",
    "        return price_discounted\n",
    "print(my_discount())\n",
    "\n",
    "\n",
    "# Note: my mistakes\n",
    "## don't use input() cause it's unnecessary since I already passed these values as arguments when calling the function.\n",
    "## The isinstance() function is used to check for multiple types at once"
   ]
  },
  {
   "cell_type": "code",
   "execution_count": null,
   "id": "7916a6f6",
   "metadata": {},
   "outputs": [],
   "source": []
  },
  {
   "cell_type": "code",
   "execution_count": null,
   "id": "1c81887f",
   "metadata": {},
   "outputs": [],
   "source": []
  },
  {
   "cell_type": "code",
   "execution_count": null,
   "id": "f67fe8e0",
   "metadata": {},
   "outputs": [],
   "source": []
  }
 ],
 "metadata": {
  "kernelspec": {
   "display_name": "Python 3 (ipykernel)",
   "language": "python",
   "name": "python3"
  },
  "language_info": {
   "codemirror_mode": {
    "name": "ipython",
    "version": 3
   },
   "file_extension": ".py",
   "mimetype": "text/x-python",
   "name": "python",
   "nbconvert_exporter": "python",
   "pygments_lexer": "ipython3",
   "version": "3.9.13"
  }
 },
 "nbformat": 4,
 "nbformat_minor": 5
}
